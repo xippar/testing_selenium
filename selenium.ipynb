{
 "cells": [
  {
   "cell_type": "code",
   "execution_count": 69,
   "metadata": {},
   "outputs": [],
   "source": [
    "import requests"
   ]
  },
  {
   "cell_type": "code",
   "execution_count": 70,
   "metadata": {},
   "outputs": [],
   "source": [
    "response = requests.get(\"https://www.checkraka.com/uploaded/_resized/max_484x376/78/786012ad97410bd87db9b08d1f1e2349.jpg\")"
   ]
  },
  {
   "cell_type": "code",
   "execution_count": 72,
   "metadata": {},
   "outputs": [],
   "source": [
    "file = open(r\"C:\\Users\\acer\\Desktop\\selenium\\sample_image.png\", \"wb\")\n",
    "file.write(response.content)\n",
    "file.close()"
   ]
  },
  {
   "cell_type": "code",
   "execution_count": null,
   "metadata": {},
   "outputs": [],
   "source": []
  },
  {
   "cell_type": "code",
   "execution_count": null,
   "metadata": {},
   "outputs": [],
   "source": []
  },
  {
   "cell_type": "code",
   "execution_count": null,
   "metadata": {},
   "outputs": [],
   "source": []
  },
  {
   "cell_type": "code",
   "execution_count": null,
   "metadata": {},
   "outputs": [],
   "source": []
  },
  {
   "cell_type": "code",
   "execution_count": 1,
   "metadata": {
    "scrolled": true
   },
   "outputs": [
    {
     "name": "stdout",
     "output_type": "stream",
     "text": [
      "Requirement already satisfied: selenium in c:\\users\\acer\\anaconda3\\lib\\site-packages (3.141.0)Note: you may need to restart the kernel to use updated packages.\n",
      "Requirement already satisfied: urllib3 in c:\\users\\acer\\anaconda3\\lib\\site-packages (from selenium) (1.25.9)\n",
      "\n"
     ]
    }
   ],
   "source": [
    "pip install selenium"
   ]
  },
  {
   "cell_type": "code",
   "execution_count": 2,
   "metadata": {},
   "outputs": [],
   "source": [
    "from selenium import webdriver"
   ]
  },
  {
   "cell_type": "code",
   "execution_count": 63,
   "metadata": {},
   "outputs": [],
   "source": [
    "import sys"
   ]
  },
  {
   "cell_type": "code",
   "execution_count": 66,
   "metadata": {},
   "outputs": [],
   "source": [
    "driver = webdriver.Chrome()"
   ]
  },
  {
   "cell_type": "code",
   "execution_count": 67,
   "metadata": {},
   "outputs": [],
   "source": [
    "driver.get('https://www.google.com/')"
   ]
  },
  {
   "cell_type": "code",
   "execution_count": 14,
   "metadata": {},
   "outputs": [],
   "source": [
    "data = driver.find_element_by_xpath('//input[@title=\"ค้นหา\"]')"
   ]
  },
  {
   "cell_type": "code",
   "execution_count": 17,
   "metadata": {},
   "outputs": [],
   "source": [
    "data.click()"
   ]
  },
  {
   "cell_type": "code",
   "execution_count": 18,
   "metadata": {},
   "outputs": [],
   "source": [
    "data.send_keys('ค้นหา')"
   ]
  },
  {
   "cell_type": "code",
   "execution_count": 19,
   "metadata": {},
   "outputs": [],
   "source": [
    "search = driver.find_element_by_xpath('//input[@value=\"ค้นหาด้วย Google\"]')"
   ]
  },
  {
   "cell_type": "code",
   "execution_count": 21,
   "metadata": {},
   "outputs": [],
   "source": [
    "search.submit()"
   ]
  },
  {
   "cell_type": "code",
   "execution_count": 32,
   "metadata": {},
   "outputs": [],
   "source": [
    "a = driver.find_elements_by_xpath('//div[@class=\"g\"]//a')"
   ]
  },
  {
   "cell_type": "code",
   "execution_count": 45,
   "metadata": {},
   "outputs": [],
   "source": [
    "driver = webdriver.Chrome(executable_path=r'C:\\Users\\acer\\Desktop\\selenium\\chromedriver')"
   ]
  },
  {
   "cell_type": "code",
   "execution_count": 55,
   "metadata": {},
   "outputs": [],
   "source": [
    "driver.get('https://www.checkraka.com')"
   ]
  },
  {
   "cell_type": "code",
   "execution_count": 60,
   "metadata": {},
   "outputs": [],
   "source": [
    "data = driver.find_element_by_xpath('//input[@placeholder=\"พิมพ์ชื่อสินค้าที่สนใจ..\"]')"
   ]
  },
  {
   "cell_type": "code",
   "execution_count": 61,
   "metadata": {},
   "outputs": [],
   "source": [
    "data.send_keys('โตโยต้า')"
   ]
  },
  {
   "cell_type": "code",
   "execution_count": 62,
   "metadata": {},
   "outputs": [],
   "source": [
    "data.clear()"
   ]
  },
  {
   "cell_type": "code",
   "execution_count": 56,
   "metadata": {},
   "outputs": [],
   "source": [
    "data = driver.find_element_by_xpath('//select[@onchange=\"loadProduct()\"]')"
   ]
  },
  {
   "cell_type": "code",
   "execution_count": 57,
   "metadata": {},
   "outputs": [],
   "source": [
    "from selenium.webdriver.support.ui import Select"
   ]
  },
  {
   "cell_type": "code",
   "execution_count": 58,
   "metadata": {},
   "outputs": [],
   "source": [
    "s = Select(data)"
   ]
  },
  {
   "cell_type": "code",
   "execution_count": 59,
   "metadata": {},
   "outputs": [],
   "source": [
    "s.select_by_visible_text('รถยนต์ใหม่')"
   ]
  },
  {
   "cell_type": "code",
   "execution_count": null,
   "metadata": {},
   "outputs": [],
   "source": []
  },
  {
   "cell_type": "code",
   "execution_count": null,
   "metadata": {},
   "outputs": [],
   "source": []
  },
  {
   "cell_type": "code",
   "execution_count": null,
   "metadata": {},
   "outputs": [],
   "source": []
  },
  {
   "cell_type": "code",
   "execution_count": null,
   "metadata": {},
   "outputs": [],
   "source": []
  },
  {
   "cell_type": "code",
   "execution_count": 47,
   "metadata": {},
   "outputs": [],
   "source": [
    "search = driver.find_element_by_xpath('//input[@title=\"ค้นหา\"]')"
   ]
  },
  {
   "cell_type": "code",
   "execution_count": 48,
   "metadata": {},
   "outputs": [],
   "source": [
    "search.send_keys('คอนโด')"
   ]
  },
  {
   "cell_type": "code",
   "execution_count": 49,
   "metadata": {},
   "outputs": [],
   "source": [
    "search.send_keys(Keys.ENTER)"
   ]
  },
  {
   "cell_type": "code",
   "execution_count": 53,
   "metadata": {},
   "outputs": [],
   "source": [
    "data = driver.find_elements_by_xpath('//div[@role=\"heading\"]')"
   ]
  },
  {
   "cell_type": "code",
   "execution_count": 54,
   "metadata": {},
   "outputs": [
    {
     "name": "stdout",
     "output_type": "stream",
     "text": [
      "\n",
      "คอนโดแต่งครบ พร้อมอยู่ - คอนโดมิเนียม โครงการใหม่\n",
      "12 คอนโด ลดแรงสูงสุด 1.5 ล้าน - ใกล้รถไฟฟ้า เริ่ม 1.85 ล้าน*\n",
      "จอง 999 บาท กู้ไม่ผ่านคืนเงิน - จ่ายให้ 36 เดือน - ornsirin.co.th\n",
      "คอนโดใหม่ใกล้ 5 แยกลาดพร้าว - แต่งครบ ฟรีเฟอร์ฯ แอร์\n",
      "Sky Breeze Condo\n",
      "The Vidi Condominium\n",
      "The Unique condo@kumueang\n",
      "โครงการ'วันเดอร์ เกษตร'คอนโดฯอัดแน่น7สิ่งมหัศจรรย์ ศิริปันนา กรุ๊ป เจ้าของ\n",
      "ปคบ.จับสาวสองคาคอนโด โฆษณาฉีดโบท็อกซ์ออนไลน์\n",
      "วิดีโอ\n",
      "รีวิวคอนโด รวมคอนโดราคาไม่ถึง 2 ล้าน ทำเลกรุงเทพฯ และปริมณฑล\n",
      "รีวิวอัปเดตคอนโดเปิดใหม่ใกล้รถไฟฟ้า ราคาไม่เกิน 3 ล้าน\n",
      "รีวิวคอนโด คอนโดพร้อมอยู่ใกล้รถไฟฟ้าที่น่าสนใจ ราคาไม่เกิน 3 ล้าน\n"
     ]
    }
   ],
   "source": [
    "for d in data:\n",
    "    print(d.text)"
   ]
  },
  {
   "cell_type": "code",
   "execution_count": 37,
   "metadata": {},
   "outputs": [],
   "source": [
    "from selenium.webdriver.common.keys import Keys"
   ]
  },
  {
   "cell_type": "code",
   "execution_count": null,
   "metadata": {},
   "outputs": [],
   "source": []
  },
  {
   "cell_type": "code",
   "execution_count": 73,
   "metadata": {},
   "outputs": [],
   "source": [
    "import pandas as pd"
   ]
  },
  {
   "cell_type": "code",
   "execution_count": 75,
   "metadata": {},
   "outputs": [],
   "source": [
    "table = pd.read_excel(r'C:\\Users\\acer\\Desktop\\Web Scraping\\Condo Price.xlsx')"
   ]
  },
  {
   "cell_type": "code",
   "execution_count": 78,
   "metadata": {},
   "outputs": [],
   "source": [
    "table = table.drop('Unnamed: 0',axis=1)"
   ]
  },
  {
   "cell_type": "code",
   "execution_count": 79,
   "metadata": {},
   "outputs": [
    {
     "data": {
      "text/html": [
       "<div>\n",
       "<style scoped>\n",
       "    .dataframe tbody tr th:only-of-type {\n",
       "        vertical-align: middle;\n",
       "    }\n",
       "\n",
       "    .dataframe tbody tr th {\n",
       "        vertical-align: top;\n",
       "    }\n",
       "\n",
       "    .dataframe thead th {\n",
       "        text-align: right;\n",
       "    }\n",
       "</style>\n",
       "<table border=\"1\" class=\"dataframe\">\n",
       "  <thead>\n",
       "    <tr style=\"text-align: right;\">\n",
       "      <th></th>\n",
       "      <th>ราคา</th>\n",
       "    </tr>\n",
       "  </thead>\n",
       "  <tbody>\n",
       "    <tr>\n",
       "      <th>0</th>\n",
       "      <td>เริ่มต้น 2.2 ลบ. (ณ. วันที่ 26/4/2019)</td>\n",
       "    </tr>\n",
       "    <tr>\n",
       "      <th>1</th>\n",
       "      <td>เริ่มต้น 3.59 ลบ. (ณ. วันที่ 24/6/2019)</td>\n",
       "    </tr>\n",
       "    <tr>\n",
       "      <th>2</th>\n",
       "      <td>3.99 - 6 ลบ. (ณ. วันที่ 9/7/2019)</td>\n",
       "    </tr>\n",
       "    <tr>\n",
       "      <th>3</th>\n",
       "      <td>เริ่มต้น 4.99 ลบ. (ณ. วันที่ 18/12/2018)</td>\n",
       "    </tr>\n",
       "    <tr>\n",
       "      <th>4</th>\n",
       "      <td>3.99 - 8 ลบ. (ณ. วันที่ 12/11/2018)โครงการนี้ม...</td>\n",
       "    </tr>\n",
       "    <tr>\n",
       "      <th>...</th>\n",
       "      <td>...</td>\n",
       "    </tr>\n",
       "    <tr>\n",
       "      <th>3258</th>\n",
       "      <td>7.99 - 9.99 ลบ. (ณ. วันเปิดตัว)โครงการนี้มีอาย...</td>\n",
       "    </tr>\n",
       "    <tr>\n",
       "      <th>3259</th>\n",
       "      <td>เริ่มต้น 8.19 ลบ. (ณ. วันที่ 19/9/2013)โครงการ...</td>\n",
       "    </tr>\n",
       "    <tr>\n",
       "      <th>3260</th>\n",
       "      <td>10 - 14.4 ลบ. (ณ. วันที่ 19/6/2012)โครงการนี้ม...</td>\n",
       "    </tr>\n",
       "    <tr>\n",
       "      <th>3261</th>\n",
       "      <td>25 - 44.2 ลบ. (ณ. วันที่ 17/10/2012)โครงการนี้...</td>\n",
       "    </tr>\n",
       "    <tr>\n",
       "      <th>3262</th>\n",
       "      <td>6.8 - 12.9 ลบ. (ณ. วันที่ 19/9/2013)โครงการนี้...</td>\n",
       "    </tr>\n",
       "  </tbody>\n",
       "</table>\n",
       "<p>3263 rows × 1 columns</p>\n",
       "</div>"
      ],
      "text/plain": [
       "                                                   ราคา\n",
       "0                เริ่มต้น 2.2 ลบ. (ณ. วันที่ 26/4/2019)\n",
       "1               เริ่มต้น 3.59 ลบ. (ณ. วันที่ 24/6/2019)\n",
       "2                     3.99 - 6 ลบ. (ณ. วันที่ 9/7/2019)\n",
       "3              เริ่มต้น 4.99 ลบ. (ณ. วันที่ 18/12/2018)\n",
       "4     3.99 - 8 ลบ. (ณ. วันที่ 12/11/2018)โครงการนี้ม...\n",
       "...                                                 ...\n",
       "3258  7.99 - 9.99 ลบ. (ณ. วันเปิดตัว)โครงการนี้มีอาย...\n",
       "3259  เริ่มต้น 8.19 ลบ. (ณ. วันที่ 19/9/2013)โครงการ...\n",
       "3260  10 - 14.4 ลบ. (ณ. วันที่ 19/6/2012)โครงการนี้ม...\n",
       "3261  25 - 44.2 ลบ. (ณ. วันที่ 17/10/2012)โครงการนี้...\n",
       "3262  6.8 - 12.9 ลบ. (ณ. วันที่ 19/9/2013)โครงการนี้...\n",
       "\n",
       "[3263 rows x 1 columns]"
      ]
     },
     "execution_count": 79,
     "metadata": {},
     "output_type": "execute_result"
    }
   ],
   "source": [
    "table"
   ]
  },
  {
   "cell_type": "code",
   "execution_count": null,
   "metadata": {},
   "outputs": [],
   "source": []
  },
  {
   "cell_type": "code",
   "execution_count": null,
   "metadata": {},
   "outputs": [],
   "source": []
  },
  {
   "cell_type": "code",
   "execution_count": 35,
   "metadata": {
    "scrolled": true
   },
   "outputs": [
    {
     "name": "stdout",
     "output_type": "stream",
     "text": [
      "https://support.google.com/websearch/answer/106230?co=GENIE.Platform%3DAndroid&hl=th\n",
      "https://www.google.com/search?q=%E0%B8%84%E0%B9%89%E0%B8%99%E0%B8%AB%E0%B8%B2&source=hp&ei=0bReYJSOJ9Ke4-EPs7a3sAo&iflsig=AINFCbYAAAAAYF7C4RNwGanuhZWWUrOpzDOkA-zfIVgm#\n",
      "https://webcache.googleusercontent.com/search?q=cache:6Xif0hsSE1YJ:https://support.google.com/websearch/answer/106230%3Fco%3DGENIE.Platform%253DAndroid%26hl%3Dth+&cd=1&hl=th&ct=clnk&gl=th\n",
      "https://support.google.com/websearch/answer/134479?hl=th\n",
      "https://www.google.com/search?q=%E0%B8%84%E0%B9%89%E0%B8%99%E0%B8%AB%E0%B8%B2&source=hp&ei=0bReYJSOJ9Ke4-EPs7a3sAo&iflsig=AINFCbYAAAAAYF7C4RNwGanuhZWWUrOpzDOkA-zfIVgm#\n",
      "https://webcache.googleusercontent.com/search?q=cache:hmb5EoX_i2gJ:https://support.google.com/websearch/answer/134479%3Fhl%3Dth+&cd=2&hl=th&ct=clnk&gl=th\n",
      "https://www.google.com/search?q=related:https://support.google.com/websearch/answer/134479%3Fhl%3Dth+%E0%B8%84%E0%B9%89%E0%B8%99%E0%B8%AB%E0%B8%B2&sa=X&ved=2ahUKEwiG2NeV2M_vAhW6ILcAHbQwBdQQHzABegQIAhAJ\n",
      "https://play.google.com/store/apps/details?id=com.prometheusinteractive.voice_launcher&hl=th&gl=US\n",
      "https://www.google.com/search?q=%E0%B8%84%E0%B9%89%E0%B8%99%E0%B8%AB%E0%B8%B2&source=hp&ei=0bReYJSOJ9Ke4-EPs7a3sAo&iflsig=AINFCbYAAAAAYF7C4RNwGanuhZWWUrOpzDOkA-zfIVgm#\n",
      "https://webcache.googleusercontent.com/search?q=cache:jKAnkKAhk0gJ:https://play.google.com/store/apps/details%3Fid%3Dcom.prometheusinteractive.voice_launcher%26hl%3Dth%26gl%3DUS+&cd=3&hl=th&ct=clnk&gl=th\n",
      "https://play.google.com/store/apps/details?id=com.google.android.apps.searchlite&hl=th&gl=US\n",
      "https://www.google.com/search?q=%E0%B8%84%E0%B9%89%E0%B8%99%E0%B8%AB%E0%B8%B2&source=hp&ei=0bReYJSOJ9Ke4-EPs7a3sAo&iflsig=AINFCbYAAAAAYF7C4RNwGanuhZWWUrOpzDOkA-zfIVgm#\n",
      "https://webcache.googleusercontent.com/search?q=cache:1VrAvMZe8doJ:https://play.google.com/store/apps/details%3Fid%3Dcom.google.android.apps.searchlite%26hl%3Dth%26gl%3DUS+&cd=8&hl=th&ct=clnk&gl=th\n",
      "https://www.google.co.th/imghp?hl=th\n",
      "https://www.google.com/search?q=%E0%B8%84%E0%B9%89%E0%B8%99%E0%B8%AB%E0%B8%B2&source=hp&ei=0bReYJSOJ9Ke4-EPs7a3sAo&iflsig=AINFCbYAAAAAYF7C4RNwGanuhZWWUrOpzDOkA-zfIVgm#\n",
      "https://webcache.googleusercontent.com/search?q=cache:VdTbWFlpsKIJ:https://www.google.co.th/imghp%3Fhl%3Dth+&cd=19&hl=th&ct=clnk&gl=th\n",
      "https://www.google.com/search?q=related:https://www.google.co.th/imghp%3Fhl%3Dth+%E0%B8%84%E0%B9%89%E0%B8%99%E0%B8%AB%E0%B8%B2&sa=X&ved=2ahUKEwiG2NeV2M_vAhW6ILcAHbQwBdQQHzASegQIBxAJ\n",
      "https://trends.google.co.th/trends/?geo=TH\n",
      "https://www.google.com/search?q=%E0%B8%84%E0%B9%89%E0%B8%99%E0%B8%AB%E0%B8%B2&source=hp&ei=0bReYJSOJ9Ke4-EPs7a3sAo&iflsig=AINFCbYAAAAAYF7C4RNwGanuhZWWUrOpzDOkA-zfIVgm#\n",
      "https://webcache.googleusercontent.com/search?q=cache:wCJLlUSu7uIJ:https://trends.google.co.th/trends/%3Fgeo%3DTH+&cd=20&hl=th&ct=clnk&gl=th\n",
      "https://chrome.google.com/webstore/detail/recent-searches/jobcfphcbjegddipbcennpjnofgpkjfe?hl=th\n",
      "https://www.google.com/search?q=%E0%B8%84%E0%B9%89%E0%B8%99%E0%B8%AB%E0%B8%B2&source=hp&ei=0bReYJSOJ9Ke4-EPs7a3sAo&iflsig=AINFCbYAAAAAYF7C4RNwGanuhZWWUrOpzDOkA-zfIVgm#\n",
      "https://webcache.googleusercontent.com/search?q=cache:VNylVuhqG-8J:https://chrome.google.com/webstore/detail/recent-searches/jobcfphcbjegddipbcennpjnofgpkjfe%3Fhl%3Dth+&cd=21&hl=th&ct=clnk&gl=th\n",
      "https://www.google.com/intl/th/homepage/search/\n",
      "https://www.google.com/search?q=%E0%B8%84%E0%B9%89%E0%B8%99%E0%B8%AB%E0%B8%B2&source=hp&ei=0bReYJSOJ9Ke4-EPs7a3sAo&iflsig=AINFCbYAAAAAYF7C4RNwGanuhZWWUrOpzDOkA-zfIVgm#\n",
      "https://webcache.googleusercontent.com/search?q=cache:Ap1BnT1J5OUJ:https://www.google.com/intl/th/homepage/search/+&cd=22&hl=th&ct=clnk&gl=th\n"
     ]
    }
   ],
   "source": [
    "for i in a:\n",
    "    print(i.get_attribute('href'))"
   ]
  },
  {
   "cell_type": "code",
   "execution_count": null,
   "metadata": {},
   "outputs": [],
   "source": []
  }
 ],
 "metadata": {
  "kernelspec": {
   "display_name": "Python 3",
   "language": "python",
   "name": "python3"
  },
  "language_info": {
   "codemirror_mode": {
    "name": "ipython",
    "version": 3
   },
   "file_extension": ".py",
   "mimetype": "text/x-python",
   "name": "python",
   "nbconvert_exporter": "python",
   "pygments_lexer": "ipython3",
   "version": "3.7.7"
  }
 },
 "nbformat": 4,
 "nbformat_minor": 4
}
